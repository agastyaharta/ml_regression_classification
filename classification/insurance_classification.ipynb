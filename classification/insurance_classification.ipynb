{
 "cells": [
  {
   "cell_type": "markdown",
   "id": "edb55243",
   "metadata": {},
   "source": [
    "# Classification Analysis on Insurance Category on XXX\n",
    "* Chi Phuong Dao\n",
    "* I Putu Agastya Harta Pratama\n",
    "\n",
    "Faculty of Economic Sciences <br>\n",
    "University of Warsaw <br>\n",
    "Warsaw, Poland <br>\n",
    "2025"
   ]
  },
  {
   "cell_type": "markdown",
   "id": "e14755d8",
   "metadata": {},
   "source": [
    "## Imports"
   ]
  },
  {
   "cell_type": "code",
   "execution_count": null,
   "id": "f4132b6c",
   "metadata": {},
   "outputs": [],
   "source": [
    "import pandas as pd\n",
    "import numpy as np\n",
    "from sklearn.preprocessing import OrdinalEncoder\n",
    "import seaborn as sns   \n",
    "import pickle"
   ]
  },
  {
   "cell_type": "markdown",
   "id": "3dcee9a6",
   "metadata": {},
   "source": [
    "## Exploratory Data Analysis"
   ]
  }
 ],
 "metadata": {
  "kernelspec": {
   "display_name": "Python 3",
   "language": "python",
   "name": "python3"
  },
  "language_info": {
   "codemirror_mode": {
    "name": "ipython",
    "version": 3
   },
   "file_extension": ".py",
   "mimetype": "text/x-python",
   "name": "python",
   "nbconvert_exporter": "python",
   "pygments_lexer": "ipython3",
   "version": "3.12.7"
  }
 },
 "nbformat": 4,
 "nbformat_minor": 5
}
