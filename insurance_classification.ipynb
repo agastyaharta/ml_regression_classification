{
 "cells": [
  {
   "cell_type": "markdown",
   "id": "edb55243",
   "metadata": {},
   "source": [
    "# Classification Analysis on Insurance Category on XXX\n",
    "* Chi Phuong Dao\n",
    "* I Putu Agastya Harta Pratama\n",
    "\n",
    "Faculty of Economic Sciences <br>\n",
    "University of Warsaw <br>\n",
    "Warsaw, Poland <br>\n",
    "2025"
   ]
  },
  {
   "cell_type": "markdown",
   "id": "e14755d8",
   "metadata": {},
   "source": [
    "## Imports"
   ]
  },
  {
   "metadata": {
    "ExecuteTime": {
     "end_time": "2025-05-07T14:51:37.394300Z",
     "start_time": "2025-05-07T14:51:34.510076Z"
    }
   },
   "cell_type": "code",
   "source": "!pip install pandas numpy scikit-learn seaborn statsmodels matplotlib xgboost lightgbm mlxtend",
   "id": "d4c99d0614cea3",
   "outputs": [
    {
     "name": "stdout",
     "output_type": "stream",
     "text": [
      "Requirement already satisfied: pandas in /Users/Chi/MASTER Data Science/2nd SEM/Machine Learning/classification/insurance/.venv/lib/python3.12/site-packages (2.2.3)\r\n",
      "Requirement already satisfied: numpy in /Users/Chi/MASTER Data Science/2nd SEM/Machine Learning/classification/insurance/.venv/lib/python3.12/site-packages (2.2.5)\r\n",
      "Requirement already satisfied: scikit-learn in /Users/Chi/MASTER Data Science/2nd SEM/Machine Learning/classification/insurance/.venv/lib/python3.12/site-packages (1.6.1)\r\n",
      "Requirement already satisfied: seaborn in /Users/Chi/MASTER Data Science/2nd SEM/Machine Learning/classification/insurance/.venv/lib/python3.12/site-packages (0.13.2)\r\n",
      "Collecting statsmodels\r\n",
      "  Using cached statsmodels-0.14.4-cp312-cp312-macosx_11_0_arm64.whl.metadata (9.2 kB)\r\n",
      "Requirement already satisfied: matplotlib in /Users/Chi/MASTER Data Science/2nd SEM/Machine Learning/classification/insurance/.venv/lib/python3.12/site-packages (3.10.1)\r\n",
      "Collecting xgboost\r\n",
      "  Using cached xgboost-3.0.0-py3-none-macosx_12_0_arm64.whl.metadata (2.1 kB)\r\n",
      "Collecting lightgbm\r\n",
      "  Using cached lightgbm-4.6.0-py3-none-macosx_12_0_arm64.whl.metadata (17 kB)\r\n",
      "Collecting mlxtend\r\n",
      "  Using cached mlxtend-0.23.4-py3-none-any.whl.metadata (7.3 kB)\r\n",
      "Requirement already satisfied: python-dateutil>=2.8.2 in /Users/Chi/MASTER Data Science/2nd SEM/Machine Learning/classification/insurance/.venv/lib/python3.12/site-packages (from pandas) (2.9.0.post0)\r\n",
      "Requirement already satisfied: pytz>=2020.1 in /Users/Chi/MASTER Data Science/2nd SEM/Machine Learning/classification/insurance/.venv/lib/python3.12/site-packages (from pandas) (2025.2)\r\n",
      "Requirement already satisfied: tzdata>=2022.7 in /Users/Chi/MASTER Data Science/2nd SEM/Machine Learning/classification/insurance/.venv/lib/python3.12/site-packages (from pandas) (2025.2)\r\n",
      "Requirement already satisfied: scipy>=1.6.0 in /Users/Chi/MASTER Data Science/2nd SEM/Machine Learning/classification/insurance/.venv/lib/python3.12/site-packages (from scikit-learn) (1.15.2)\r\n",
      "Requirement already satisfied: joblib>=1.2.0 in /Users/Chi/MASTER Data Science/2nd SEM/Machine Learning/classification/insurance/.venv/lib/python3.12/site-packages (from scikit-learn) (1.5.0)\r\n",
      "Requirement already satisfied: threadpoolctl>=3.1.0 in /Users/Chi/MASTER Data Science/2nd SEM/Machine Learning/classification/insurance/.venv/lib/python3.12/site-packages (from scikit-learn) (3.6.0)\r\n",
      "Collecting patsy>=0.5.6 (from statsmodels)\r\n",
      "  Using cached patsy-1.0.1-py2.py3-none-any.whl.metadata (3.3 kB)\r\n",
      "Requirement already satisfied: packaging>=21.3 in /Users/Chi/MASTER Data Science/2nd SEM/Machine Learning/classification/insurance/.venv/lib/python3.12/site-packages (from statsmodels) (25.0)\r\n",
      "Requirement already satisfied: contourpy>=1.0.1 in /Users/Chi/MASTER Data Science/2nd SEM/Machine Learning/classification/insurance/.venv/lib/python3.12/site-packages (from matplotlib) (1.3.2)\r\n",
      "Requirement already satisfied: cycler>=0.10 in /Users/Chi/MASTER Data Science/2nd SEM/Machine Learning/classification/insurance/.venv/lib/python3.12/site-packages (from matplotlib) (0.12.1)\r\n",
      "Requirement already satisfied: fonttools>=4.22.0 in /Users/Chi/MASTER Data Science/2nd SEM/Machine Learning/classification/insurance/.venv/lib/python3.12/site-packages (from matplotlib) (4.57.0)\r\n",
      "Requirement already satisfied: kiwisolver>=1.3.1 in /Users/Chi/MASTER Data Science/2nd SEM/Machine Learning/classification/insurance/.venv/lib/python3.12/site-packages (from matplotlib) (1.4.8)\r\n",
      "Requirement already satisfied: pillow>=8 in /Users/Chi/MASTER Data Science/2nd SEM/Machine Learning/classification/insurance/.venv/lib/python3.12/site-packages (from matplotlib) (11.2.1)\r\n",
      "Requirement already satisfied: pyparsing>=2.3.1 in /Users/Chi/MASTER Data Science/2nd SEM/Machine Learning/classification/insurance/.venv/lib/python3.12/site-packages (from matplotlib) (3.2.3)\r\n",
      "Requirement already satisfied: six>=1.5 in /Users/Chi/MASTER Data Science/2nd SEM/Machine Learning/classification/insurance/.venv/lib/python3.12/site-packages (from python-dateutil>=2.8.2->pandas) (1.17.0)\r\n",
      "Using cached statsmodels-0.14.4-cp312-cp312-macosx_11_0_arm64.whl (9.9 MB)\r\n",
      "Using cached xgboost-3.0.0-py3-none-macosx_12_0_arm64.whl (2.0 MB)\r\n",
      "Using cached lightgbm-4.6.0-py3-none-macosx_12_0_arm64.whl (1.6 MB)\r\n",
      "Using cached mlxtend-0.23.4-py3-none-any.whl (1.4 MB)\r\n",
      "Using cached patsy-1.0.1-py2.py3-none-any.whl (232 kB)\r\n",
      "Installing collected packages: patsy, xgboost, lightgbm, statsmodels, mlxtend\r\n",
      "\u001B[2K   \u001B[90m━━━━━━━━━━━━━━━━━━━━━━━━━━━━━━━━━━━━━━━━\u001B[0m \u001B[32m5/5\u001B[0m [mlxtend]m4/5\u001B[0m [mlxtend]els]\r\n",
      "\u001B[1A\u001B[2KSuccessfully installed lightgbm-4.6.0 mlxtend-0.23.4 patsy-1.0.1 statsmodels-0.14.4 xgboost-3.0.0\r\n"
     ]
    }
   ],
   "execution_count": 30
  },
  {
   "cell_type": "code",
   "id": "f4132b6c",
   "metadata": {
    "ExecuteTime": {
     "end_time": "2025-05-05T12:04:02.642739Z",
     "start_time": "2025-05-05T12:03:44.565295Z"
    }
   },
   "source": [
    "import pandas as pd\n",
    "import numpy as np\n",
    "from sklearn.preprocessing import OrdinalEncoder\n",
    "import seaborn as sns   \n",
    "import pickle"
   ],
   "outputs": [],
   "execution_count": 14
  },
  {
   "metadata": {
    "ExecuteTime": {
     "end_time": "2025-05-07T14:54:15.057976Z",
     "start_time": "2025-05-07T14:54:14.661539Z"
    }
   },
   "cell_type": "code",
   "source": [
    "import warnings\n",
    "warnings.filterwarnings(\"ignore\")\n",
    "\n",
    "import pandas as pd\n",
    "import numpy as np\n",
    "from scipy import stats\n",
    "import sklearn as sk\n",
    "import itertools\n",
    "import matplotlib.pyplot as plt\n",
    "import matplotlib.gridspec as gridspec\n",
    "import seaborn as sns\n",
    "from statsmodels.graphics.mosaicplot import mosaic\n",
    "\n",
    "from sklearn.linear_model import LogisticRegression\n",
    "from sklearn.linear_model import Perceptron\n",
    "from sklearn import tree\n",
    "from sklearn.naive_bayes import GaussianNB\n",
    "from sklearn.neighbors import KNeighborsClassifier\n",
    "from sklearn.ensemble import RandomForestClassifier\n",
    "from sklearn.ensemble import ExtraTreesClassifier\n",
    "from sklearn.ensemble import BaggingClassifier\n",
    "from sklearn.ensemble import AdaBoostClassifier\n",
    "from sklearn.ensemble import GradientBoostingClassifier\n",
    "from sklearn.ensemble import VotingClassifier\n",
    "from sklearn import svm\n",
    "import xgboost as xgb\n",
    "import lightgbm as lgb\n",
    "from mlxtend.classifier import StackingClassifier\n",
    "\n",
    "from sklearn.model_selection import cross_val_score\n",
    "from sklearn.model_selection import KFold\n",
    "from sklearn.metrics import confusion_matrix\n",
    "from sklearn.model_selection import train_test_split\n",
    "from sklearn.model_selection import GridSearchCV\n"
   ],
   "id": "e6a6c9e0d3d1866e",
   "outputs": [],
   "execution_count": 33
  },
  {
   "metadata": {
    "ExecuteTime": {
     "end_time": "2025-05-07T13:56:13.709879Z",
     "start_time": "2025-05-07T13:56:13.625051Z"
    }
   },
   "cell_type": "code",
   "source": "train = pd.read_csv(\"insurance_train.csv\")",
   "id": "ed4481b129661fbc",
   "outputs": [],
   "execution_count": 17
  },
  {
   "metadata": {
    "ExecuteTime": {
     "end_time": "2025-05-07T13:56:14.606907Z",
     "start_time": "2025-05-07T13:56:14.594711Z"
    }
   },
   "cell_type": "code",
   "source": "test = pd.read_csv(\"insurance_test.csv\")",
   "id": "5bd75d8b7a850059",
   "outputs": [],
   "execution_count": 18
  },
  {
   "metadata": {
    "ExecuteTime": {
     "end_time": "2025-05-07T13:56:24.488775Z",
     "start_time": "2025-05-07T13:56:24.478327Z"
    }
   },
   "cell_type": "code",
   "source": [
    "train_no_target = train.drop(columns=['claim_status'])\n",
    "all_data = pd.concat([train_no_target, test], ignore_index=True)"
   ],
   "id": "62936064b68d7e6a",
   "outputs": [],
   "execution_count": 20
  },
  {
   "cell_type": "markdown",
   "id": "3dcee9a6",
   "metadata": {},
   "source": [
    "## Exploratory Data Analysis"
   ]
  },
  {
   "metadata": {
    "ExecuteTime": {
     "end_time": "2025-05-07T13:56:39.756192Z",
     "start_time": "2025-05-07T13:56:39.749310Z"
    }
   },
   "cell_type": "code",
   "source": "train.head()",
   "id": "fe187bcb4225bfa7",
   "outputs": [
    {
     "data": {
      "text/plain": [
       "      reward  claim_status person_gender entity_type channel  \\\n",
       "0   0.000000             0      9b2d5b46      type_a     web   \n",
       "1  18.428627             0      9b2d5b46      type_a     web   \n",
       "2   0.000000             0      9b2d5b46      type_a     web   \n",
       "3   0.000000             0      9b2d5b46      type_a     web   \n",
       "4   0.000000             0      9b2d5b46      type_a     web   \n",
       "\n",
       "   support_interactions  agent_id  customer_score  entity_a  person_age  \\\n",
       "0                     0  agt_0004        0.284509  50b3e71e          51   \n",
       "1                     0  agt_0001        0.207538  96d6c6df          32   \n",
       "2                     1  agt_0004        0.300461  50b3e71e          38   \n",
       "3                     0  agt_0004        0.132404  50b3e71e          30   \n",
       "4                     2  agt_0004        0.070443  50b3e71e          37   \n",
       "\n",
       "        location     revenue              product_id  trip_length  \n",
       "0  united states  105.459587         SecurePlan Flex           21  \n",
       "1          spain   30.433459  DriveSafe Rental Addon            6  \n",
       "2    new zealand   78.728474        TripGuard Cancel           84  \n",
       "3       thailand   17.146843        TripGuard Cancel           39  \n",
       "4       viet nam   10.476416        TripGuard Cancel           48  "
      ],
      "text/html": [
       "<div>\n",
       "<style scoped>\n",
       "    .dataframe tbody tr th:only-of-type {\n",
       "        vertical-align: middle;\n",
       "    }\n",
       "\n",
       "    .dataframe tbody tr th {\n",
       "        vertical-align: top;\n",
       "    }\n",
       "\n",
       "    .dataframe thead th {\n",
       "        text-align: right;\n",
       "    }\n",
       "</style>\n",
       "<table border=\"1\" class=\"dataframe\">\n",
       "  <thead>\n",
       "    <tr style=\"text-align: right;\">\n",
       "      <th></th>\n",
       "      <th>reward</th>\n",
       "      <th>claim_status</th>\n",
       "      <th>person_gender</th>\n",
       "      <th>entity_type</th>\n",
       "      <th>channel</th>\n",
       "      <th>support_interactions</th>\n",
       "      <th>agent_id</th>\n",
       "      <th>customer_score</th>\n",
       "      <th>entity_a</th>\n",
       "      <th>person_age</th>\n",
       "      <th>location</th>\n",
       "      <th>revenue</th>\n",
       "      <th>product_id</th>\n",
       "      <th>trip_length</th>\n",
       "    </tr>\n",
       "  </thead>\n",
       "  <tbody>\n",
       "    <tr>\n",
       "      <th>0</th>\n",
       "      <td>0.000000</td>\n",
       "      <td>0</td>\n",
       "      <td>9b2d5b46</td>\n",
       "      <td>type_a</td>\n",
       "      <td>web</td>\n",
       "      <td>0</td>\n",
       "      <td>agt_0004</td>\n",
       "      <td>0.284509</td>\n",
       "      <td>50b3e71e</td>\n",
       "      <td>51</td>\n",
       "      <td>united states</td>\n",
       "      <td>105.459587</td>\n",
       "      <td>SecurePlan Flex</td>\n",
       "      <td>21</td>\n",
       "    </tr>\n",
       "    <tr>\n",
       "      <th>1</th>\n",
       "      <td>18.428627</td>\n",
       "      <td>0</td>\n",
       "      <td>9b2d5b46</td>\n",
       "      <td>type_a</td>\n",
       "      <td>web</td>\n",
       "      <td>0</td>\n",
       "      <td>agt_0001</td>\n",
       "      <td>0.207538</td>\n",
       "      <td>96d6c6df</td>\n",
       "      <td>32</td>\n",
       "      <td>spain</td>\n",
       "      <td>30.433459</td>\n",
       "      <td>DriveSafe Rental Addon</td>\n",
       "      <td>6</td>\n",
       "    </tr>\n",
       "    <tr>\n",
       "      <th>2</th>\n",
       "      <td>0.000000</td>\n",
       "      <td>0</td>\n",
       "      <td>9b2d5b46</td>\n",
       "      <td>type_a</td>\n",
       "      <td>web</td>\n",
       "      <td>1</td>\n",
       "      <td>agt_0004</td>\n",
       "      <td>0.300461</td>\n",
       "      <td>50b3e71e</td>\n",
       "      <td>38</td>\n",
       "      <td>new zealand</td>\n",
       "      <td>78.728474</td>\n",
       "      <td>TripGuard Cancel</td>\n",
       "      <td>84</td>\n",
       "    </tr>\n",
       "    <tr>\n",
       "      <th>3</th>\n",
       "      <td>0.000000</td>\n",
       "      <td>0</td>\n",
       "      <td>9b2d5b46</td>\n",
       "      <td>type_a</td>\n",
       "      <td>web</td>\n",
       "      <td>0</td>\n",
       "      <td>agt_0004</td>\n",
       "      <td>0.132404</td>\n",
       "      <td>50b3e71e</td>\n",
       "      <td>30</td>\n",
       "      <td>thailand</td>\n",
       "      <td>17.146843</td>\n",
       "      <td>TripGuard Cancel</td>\n",
       "      <td>39</td>\n",
       "    </tr>\n",
       "    <tr>\n",
       "      <th>4</th>\n",
       "      <td>0.000000</td>\n",
       "      <td>0</td>\n",
       "      <td>9b2d5b46</td>\n",
       "      <td>type_a</td>\n",
       "      <td>web</td>\n",
       "      <td>2</td>\n",
       "      <td>agt_0004</td>\n",
       "      <td>0.070443</td>\n",
       "      <td>50b3e71e</td>\n",
       "      <td>37</td>\n",
       "      <td>viet nam</td>\n",
       "      <td>10.476416</td>\n",
       "      <td>TripGuard Cancel</td>\n",
       "      <td>48</td>\n",
       "    </tr>\n",
       "  </tbody>\n",
       "</table>\n",
       "</div>"
      ]
     },
     "execution_count": 21,
     "metadata": {},
     "output_type": "execute_result"
    }
   ],
   "execution_count": 21
  },
  {
   "metadata": {
    "ExecuteTime": {
     "end_time": "2025-05-07T14:13:56.417195Z",
     "start_time": "2025-05-07T14:13:56.383555Z"
    }
   },
   "cell_type": "code",
   "source": "train.describe()",
   "id": "1431c24e022be17d",
   "outputs": [
    {
     "data": {
      "text/plain": [
       "             reward  claim_status  support_interactions  customer_score  \\\n",
       "count  56993.000000  56993.000000          56993.000000    56993.000000   \n",
       "mean       9.794976      0.014633              1.093941        0.189540   \n",
       "std       19.791119      0.120081              0.923113        0.080641   \n",
       "min        0.000000      0.000000              0.000000        0.000000   \n",
       "25%        0.000000      0.000000              0.000000        0.136389   \n",
       "50%        0.000000      0.000000              1.000000        0.181041   \n",
       "75%       11.336612      0.000000              2.000000        0.230836   \n",
       "max      282.073580      1.000000              6.000000        1.000000   \n",
       "\n",
       "         person_age       revenue   trip_length  \n",
       "count  56993.000000  56993.000000  56993.000000  \n",
       "mean      39.697261     40.750070     49.234888  \n",
       "std       12.603433     48.749221     98.659469  \n",
       "min       18.000000   -406.642669      1.000000  \n",
       "25%       34.000000     18.246389      9.000000  \n",
       "50%       36.000000     26.785242     22.000000  \n",
       "75%       44.000000     47.809948     53.000000  \n",
       "max      100.000000    801.049866   4856.000000  "
      ],
      "text/html": [
       "<div>\n",
       "<style scoped>\n",
       "    .dataframe tbody tr th:only-of-type {\n",
       "        vertical-align: middle;\n",
       "    }\n",
       "\n",
       "    .dataframe tbody tr th {\n",
       "        vertical-align: top;\n",
       "    }\n",
       "\n",
       "    .dataframe thead th {\n",
       "        text-align: right;\n",
       "    }\n",
       "</style>\n",
       "<table border=\"1\" class=\"dataframe\">\n",
       "  <thead>\n",
       "    <tr style=\"text-align: right;\">\n",
       "      <th></th>\n",
       "      <th>reward</th>\n",
       "      <th>claim_status</th>\n",
       "      <th>support_interactions</th>\n",
       "      <th>customer_score</th>\n",
       "      <th>person_age</th>\n",
       "      <th>revenue</th>\n",
       "      <th>trip_length</th>\n",
       "    </tr>\n",
       "  </thead>\n",
       "  <tbody>\n",
       "    <tr>\n",
       "      <th>count</th>\n",
       "      <td>56993.000000</td>\n",
       "      <td>56993.000000</td>\n",
       "      <td>56993.000000</td>\n",
       "      <td>56993.000000</td>\n",
       "      <td>56993.000000</td>\n",
       "      <td>56993.000000</td>\n",
       "      <td>56993.000000</td>\n",
       "    </tr>\n",
       "    <tr>\n",
       "      <th>mean</th>\n",
       "      <td>9.794976</td>\n",
       "      <td>0.014633</td>\n",
       "      <td>1.093941</td>\n",
       "      <td>0.189540</td>\n",
       "      <td>39.697261</td>\n",
       "      <td>40.750070</td>\n",
       "      <td>49.234888</td>\n",
       "    </tr>\n",
       "    <tr>\n",
       "      <th>std</th>\n",
       "      <td>19.791119</td>\n",
       "      <td>0.120081</td>\n",
       "      <td>0.923113</td>\n",
       "      <td>0.080641</td>\n",
       "      <td>12.603433</td>\n",
       "      <td>48.749221</td>\n",
       "      <td>98.659469</td>\n",
       "    </tr>\n",
       "    <tr>\n",
       "      <th>min</th>\n",
       "      <td>0.000000</td>\n",
       "      <td>0.000000</td>\n",
       "      <td>0.000000</td>\n",
       "      <td>0.000000</td>\n",
       "      <td>18.000000</td>\n",
       "      <td>-406.642669</td>\n",
       "      <td>1.000000</td>\n",
       "    </tr>\n",
       "    <tr>\n",
       "      <th>25%</th>\n",
       "      <td>0.000000</td>\n",
       "      <td>0.000000</td>\n",
       "      <td>0.000000</td>\n",
       "      <td>0.136389</td>\n",
       "      <td>34.000000</td>\n",
       "      <td>18.246389</td>\n",
       "      <td>9.000000</td>\n",
       "    </tr>\n",
       "    <tr>\n",
       "      <th>50%</th>\n",
       "      <td>0.000000</td>\n",
       "      <td>0.000000</td>\n",
       "      <td>1.000000</td>\n",
       "      <td>0.181041</td>\n",
       "      <td>36.000000</td>\n",
       "      <td>26.785242</td>\n",
       "      <td>22.000000</td>\n",
       "    </tr>\n",
       "    <tr>\n",
       "      <th>75%</th>\n",
       "      <td>11.336612</td>\n",
       "      <td>0.000000</td>\n",
       "      <td>2.000000</td>\n",
       "      <td>0.230836</td>\n",
       "      <td>44.000000</td>\n",
       "      <td>47.809948</td>\n",
       "      <td>53.000000</td>\n",
       "    </tr>\n",
       "    <tr>\n",
       "      <th>max</th>\n",
       "      <td>282.073580</td>\n",
       "      <td>1.000000</td>\n",
       "      <td>6.000000</td>\n",
       "      <td>1.000000</td>\n",
       "      <td>100.000000</td>\n",
       "      <td>801.049866</td>\n",
       "      <td>4856.000000</td>\n",
       "    </tr>\n",
       "  </tbody>\n",
       "</table>\n",
       "</div>"
      ]
     },
     "execution_count": 22,
     "metadata": {},
     "output_type": "execute_result"
    }
   ],
   "execution_count": 22
  },
  {
   "metadata": {
    "ExecuteTime": {
     "end_time": "2025-05-07T14:26:30.922028Z",
     "start_time": "2025-05-07T14:26:30.899965Z"
    }
   },
   "cell_type": "code",
   "source": "train.isnull().sum()",
   "id": "6bcd6c9a46842ff1",
   "outputs": [
    {
     "data": {
      "text/plain": [
       "reward                  0\n",
       "claim_status            0\n",
       "person_gender           0\n",
       "entity_type             0\n",
       "channel                 0\n",
       "support_interactions    0\n",
       "agent_id                0\n",
       "customer_score          0\n",
       "entity_a                0\n",
       "person_age              0\n",
       "location                0\n",
       "revenue                 0\n",
       "product_id              0\n",
       "trip_length             0\n",
       "dtype: int64"
      ]
     },
     "execution_count": 25,
     "metadata": {},
     "output_type": "execute_result"
    }
   ],
   "execution_count": 25
  },
  {
   "metadata": {
    "ExecuteTime": {
     "end_time": "2025-05-07T14:26:53.861683Z",
     "start_time": "2025-05-07T14:26:53.856803Z"
    }
   },
   "cell_type": "code",
   "source": "test.isnull().sum()",
   "id": "6e5d1d0145de8609",
   "outputs": [
    {
     "data": {
      "text/plain": [
       "reward                  0\n",
       "person_gender           0\n",
       "entity_type             0\n",
       "channel                 0\n",
       "support_interactions    0\n",
       "agent_id                0\n",
       "customer_score          0\n",
       "entity_a                0\n",
       "person_age              0\n",
       "location                0\n",
       "revenue                 0\n",
       "product_id              0\n",
       "trip_length             0\n",
       "dtype: int64"
      ]
     },
     "execution_count": 26,
     "metadata": {},
     "output_type": "execute_result"
    }
   ],
   "execution_count": 26
  },
  {
   "metadata": {
    "ExecuteTime": {
     "end_time": "2025-05-07T14:22:49.968004Z",
     "start_time": "2025-05-07T14:22:49.890092Z"
    }
   },
   "cell_type": "code",
   "outputs": [
    {
     "data": {
      "text/plain": [
       "reward                  25246\n",
       "claim_status                2\n",
       "person_gender               3\n",
       "entity_type                 2\n",
       "channel                     2\n",
       "support_interactions        7\n",
       "agent_id                   16\n",
       "customer_score          56862\n",
       "entity_a                   16\n",
       "person_age                 74\n",
       "location                  146\n",
       "revenue                 55300\n",
       "product_id                 26\n",
       "trip_length               448\n",
       "dtype: int64"
      ]
     },
     "execution_count": 24,
     "metadata": {},
     "output_type": "execute_result"
    }
   ],
   "execution_count": 24,
   "source": "train.nunique()",
   "id": "eedaca9acc0f226c"
  },
  {
   "metadata": {},
   "cell_type": "markdown",
   "source": "There is no missing value for both the training and testing dataset ",
   "id": "f303b372f050e4f9"
  },
  {
   "metadata": {
    "ExecuteTime": {
     "end_time": "2025-05-07T14:38:32.012826Z",
     "start_time": "2025-05-07T14:38:31.981016Z"
    }
   },
   "cell_type": "code",
   "source": [
    "claim_counts = train['claim_status'].value_counts().sort_index()\n",
    "claim_pct    = (claim_counts / len(df) * 100).round(2)\n",
    "\n",
    "claim_df = (\n",
    "    pd.DataFrame({'count': claim_counts, 'percentage_%': claim_pct})\n",
    "      .rename_axis(\"claim_status\")\n",
    ")\n",
    "display(claim_df)                    \n",
    "cat_cols = ['person_gender', 'entity_type', 'channel',\n",
    "            'support_interactions', 'agent_id', 'entity_a']\n",
    "\n",
    "rows = []\n",
    "for col in cat_cols:\n",
    "    uniques = train[col].unique()\n",
    "    rows.append({\n",
    "        \"column\": col,\n",
    "        \"n_unique\": len(uniques),\n",
    "        \"sample_values\": ', '.join(map(str, uniques[:10])) + (' …' if len(uniques) > 10 else '')\n",
    "    })\n",
    "\n",
    "unique_df = pd.DataFrame(rows)\n",
    "display(unique_df)"
   ],
   "id": "609384f3706f8025",
   "outputs": [
    {
     "data": {
      "text/plain": [
       "              count  percentage_%\n",
       "claim_status                     \n",
       "0             56159         98.54\n",
       "1               834          1.46"
      ],
      "text/html": [
       "<div>\n",
       "<style scoped>\n",
       "    .dataframe tbody tr th:only-of-type {\n",
       "        vertical-align: middle;\n",
       "    }\n",
       "\n",
       "    .dataframe tbody tr th {\n",
       "        vertical-align: top;\n",
       "    }\n",
       "\n",
       "    .dataframe thead th {\n",
       "        text-align: right;\n",
       "    }\n",
       "</style>\n",
       "<table border=\"1\" class=\"dataframe\">\n",
       "  <thead>\n",
       "    <tr style=\"text-align: right;\">\n",
       "      <th></th>\n",
       "      <th>count</th>\n",
       "      <th>percentage_%</th>\n",
       "    </tr>\n",
       "    <tr>\n",
       "      <th>claim_status</th>\n",
       "      <th></th>\n",
       "      <th></th>\n",
       "    </tr>\n",
       "  </thead>\n",
       "  <tbody>\n",
       "    <tr>\n",
       "      <th>0</th>\n",
       "      <td>56159</td>\n",
       "      <td>98.54</td>\n",
       "    </tr>\n",
       "    <tr>\n",
       "      <th>1</th>\n",
       "      <td>834</td>\n",
       "      <td>1.46</td>\n",
       "    </tr>\n",
       "  </tbody>\n",
       "</table>\n",
       "</div>"
      ]
     },
     "metadata": {},
     "output_type": "display_data"
    },
    {
     "data": {
      "text/plain": [
       "                 column  n_unique  \\\n",
       "0         person_gender         3   \n",
       "1           entity_type         2   \n",
       "2               channel         2   \n",
       "3  support_interactions         7   \n",
       "4              agent_id        16   \n",
       "5              entity_a        16   \n",
       "\n",
       "                                       sample_values  \n",
       "0                       9b2d5b46, f67ab10a, 08f27188  \n",
       "1                                     type_a, type_b  \n",
       "2                                        web, retail  \n",
       "3                                0, 1, 2, 3, 4, 5, 6  \n",
       "4  agt_0004, agt_0001, agt_0002, agt_0005, agt_00...  \n",
       "5  50b3e71e, 96d6c6df, 7b5dbb09, 99ede4e4, 1e089e...  "
      ],
      "text/html": [
       "<div>\n",
       "<style scoped>\n",
       "    .dataframe tbody tr th:only-of-type {\n",
       "        vertical-align: middle;\n",
       "    }\n",
       "\n",
       "    .dataframe tbody tr th {\n",
       "        vertical-align: top;\n",
       "    }\n",
       "\n",
       "    .dataframe thead th {\n",
       "        text-align: right;\n",
       "    }\n",
       "</style>\n",
       "<table border=\"1\" class=\"dataframe\">\n",
       "  <thead>\n",
       "    <tr style=\"text-align: right;\">\n",
       "      <th></th>\n",
       "      <th>column</th>\n",
       "      <th>n_unique</th>\n",
       "      <th>sample_values</th>\n",
       "    </tr>\n",
       "  </thead>\n",
       "  <tbody>\n",
       "    <tr>\n",
       "      <th>0</th>\n",
       "      <td>person_gender</td>\n",
       "      <td>3</td>\n",
       "      <td>9b2d5b46, f67ab10a, 08f27188</td>\n",
       "    </tr>\n",
       "    <tr>\n",
       "      <th>1</th>\n",
       "      <td>entity_type</td>\n",
       "      <td>2</td>\n",
       "      <td>type_a, type_b</td>\n",
       "    </tr>\n",
       "    <tr>\n",
       "      <th>2</th>\n",
       "      <td>channel</td>\n",
       "      <td>2</td>\n",
       "      <td>web, retail</td>\n",
       "    </tr>\n",
       "    <tr>\n",
       "      <th>3</th>\n",
       "      <td>support_interactions</td>\n",
       "      <td>7</td>\n",
       "      <td>0, 1, 2, 3, 4, 5, 6</td>\n",
       "    </tr>\n",
       "    <tr>\n",
       "      <th>4</th>\n",
       "      <td>agent_id</td>\n",
       "      <td>16</td>\n",
       "      <td>agt_0004, agt_0001, agt_0002, agt_0005, agt_00...</td>\n",
       "    </tr>\n",
       "    <tr>\n",
       "      <th>5</th>\n",
       "      <td>entity_a</td>\n",
       "      <td>16</td>\n",
       "      <td>50b3e71e, 96d6c6df, 7b5dbb09, 99ede4e4, 1e089e...</td>\n",
       "    </tr>\n",
       "  </tbody>\n",
       "</table>\n",
       "</div>"
      ]
     },
     "metadata": {},
     "output_type": "display_data"
    }
   ],
   "execution_count": 27
  },
  {
   "metadata": {},
   "cell_type": "markdown",
   "source": "In general, almost insurance claims got rejected, so there is extreme class imbalance with fewer than 2% of them got accepted. Therefore, a naive model that always predicts \"0\" would already score 98.5% accuracy while doing nothing useful. Hence, for this dataset, the accuracy is a misleading metric, we will focus on the recall/precision, ROC-AUC instead. ",
   "id": "dd098dea084d7160"
  }
 ],
 "metadata": {
  "kernelspec": {
   "display_name": "Python 3",
   "language": "python",
   "name": "python3"
  },
  "language_info": {
   "codemirror_mode": {
    "name": "ipython",
    "version": 3
   },
   "file_extension": ".py",
   "mimetype": "text/x-python",
   "name": "python",
   "nbconvert_exporter": "python",
   "pygments_lexer": "ipython3",
   "version": "3.12.7"
  }
 },
 "nbformat": 4,
 "nbformat_minor": 5
}
